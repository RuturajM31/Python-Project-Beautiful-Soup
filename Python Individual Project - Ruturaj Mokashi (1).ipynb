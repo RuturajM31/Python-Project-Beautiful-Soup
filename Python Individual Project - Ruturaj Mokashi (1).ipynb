{
 "cells": [
  {
   "cell_type": "code",
   "execution_count": null,
   "metadata": {},
   "outputs": [],
   "source": [
    "# This project is based on web scrapping using BeautifulSoup. \n",
    "# Most of the brands are promoting Black Friday and Christmas Discounts on their products.\n",
    "# For this project, I have selected a website which sells dj controllers and other related equipment with different discount offers\n",
    "# Through this project, we can calculate the % Discount on each Dj Controller and choose the right product with maximum savings."
   ]
  },
  {
   "cell_type": "code",
   "execution_count": 26,
   "metadata": {},
   "outputs": [],
   "source": [
    "import bs4\n"
   ]
  },
  {
   "cell_type": "code",
   "execution_count": 27,
   "metadata": {},
   "outputs": [],
   "source": [
    "#Importing urlopen from urllib.rquest to fetch internet resources\n",
    "#Importing BestifulSoup\n",
    "from urllib.request import urlopen as uReq\n",
    "from bs4 import BeautifulSoup as soup"
   ]
  },
  {
   "cell_type": "code",
   "execution_count": 28,
   "metadata": {},
   "outputs": [],
   "source": [
    "my_url = 'https://www.storedj.com.au/dj-equipment/dj-controllers?SortProduct=SaveValue%20DESC&PageProduct=1'"
   ]
  },
  {
   "cell_type": "code",
   "execution_count": 29,
   "metadata": {},
   "outputs": [],
   "source": [
    "#Opening the connection and grabbing the page\n",
    "uClient = uReq(my_url)\n",
    "page_html= uClient.read()\n",
    "\n",
    "#Closing the client\n",
    "uClient.close()"
   ]
  },
  {
   "cell_type": "code",
   "execution_count": 30,
   "metadata": {},
   "outputs": [],
   "source": [
    "#Data Derived from Beautiful Soup Package | HTML Parsing\n",
    "page_soup = soup(page_html,\"html.parser\")"
   ]
  },
  {
   "cell_type": "code",
   "execution_count": 31,
   "metadata": {},
   "outputs": [
    {
     "data": {
      "text/plain": [
       "<h1 class=\"page-title ico-heading\">DJ Controllers</h1>"
      ]
     },
     "execution_count": 31,
     "metadata": {},
     "output_type": "execute_result"
    }
   ],
   "source": [
    "# Checking h1 tags\n",
    "page_soup.h1"
   ]
  },
  {
   "cell_type": "code",
   "execution_count": 32,
   "metadata": {},
   "outputs": [
    {
     "data": {
      "text/plain": [
       "<p class=\"promo-title\">5 Store Locations</p>"
      ]
     },
     "execution_count": 32,
     "metadata": {},
     "output_type": "execute_result"
    }
   ],
   "source": [
    "# Checking P tags\n",
    "page_soup.p"
   ]
  },
  {
   "cell_type": "code",
   "execution_count": 33,
   "metadata": {},
   "outputs": [
    {
     "data": {
      "text/plain": [
       "<span class=\"topbar-copy\">Australia's Largest Range Of Pro Audio Equipment</span>"
      ]
     },
     "execution_count": 33,
     "metadata": {},
     "output_type": "execute_result"
    }
   ],
   "source": [
    "# Checking Span Class\n",
    "page_soup.body.span"
   ]
  },
  {
   "cell_type": "code",
   "execution_count": 34,
   "metadata": {},
   "outputs": [],
   "source": [
    "#Fetching all div with class \"Product\"\n",
    "containers = page_soup.findAll(\"div\",{\"class\":\"product\"})"
   ]
  },
  {
   "cell_type": "code",
   "execution_count": 35,
   "metadata": {},
   "outputs": [
    {
     "data": {
      "text/plain": [
       "15"
      ]
     },
     "execution_count": 35,
     "metadata": {},
     "output_type": "execute_result"
    }
   ],
   "source": [
    "#Checking Container Lenght\n",
    "len(containers)"
   ]
  },
  {
   "cell_type": "code",
   "execution_count": 36,
   "metadata": {},
   "outputs": [
    {
     "data": {
      "text/plain": [
       "<div class=\"product \" data-current-pickup-store-name=\"\" data-enable-store-availability-click-and-collect=\"true\" data-hide-footer-zone=\"false\" data-is-favourite=\"false\" data-is-user-favourites-page=\"false\" data-items-on-order=\"0\" data-product-code=\"PIO-DDJRZX\" data-product-data=\"\" data-qty-on-back-order=\"0\" data-rc-quick-view-close-button-html='&lt;div class=\"close-overlay cv-ico-general-cross3\"&gt;Close&lt;/div&gt;' data-rc-quick-view-slide-toggle-selector=\".cv-zone-product-3 .close-overlay\" data-rc-quick-view-zone-selector=\".cv-zone-product-3\" data-role=\"product\" data-show-delivery-available=\"true\" data-show-delivery-available-back-order=\"false\" data-show-delivery-available-five-to-seven-days=\"false\" data-show-delivery-available-three-to-six-days=\"false\" data-show-delivery-available-two-to-five-days=\"false\" data-show-delivery-indent-product-call=\"false\" data-show-delivery-select-product-attributes=\"false\" data-show-delivery-special-order=\"false\" data-show-delivery-store-not-set=\"false\" data-show-delivery-unavailable=\"false\" data-show-pickup-available=\"false\" data-show-pickup-available-back-order=\"false\" data-show-pickup-indent-product-call=\"false\" data-show-pickup-low-stock-call=\"false\" data-show-pickup-select-product-attributes=\"false\" data-show-pickup-store-not-set=\"true\" data-show-pickup-unavailable=\"false\" data-store-avail-click-and-collect-delivery-display-mode=\"Standard\" data-trigger-favourites-messages=\"false\" data-trigger-messages=\"true\"><div data-view=\"true\">\n",
       "<div class=\"cv-zone-product-1\">\n",
       "<div class=\"widget-productlist-image \">\n",
       "<a data-product-link=\"PIO-DDJRZX\" href=\"/pioneer-ddjrzx-pro-4-channel-rekordbox-dj-controller\">\n",
       "<img class=\"product-img\" data-bind=\"attr: { src: imageSrc, alt: imageAltTag, title: imageAltTag }, updateWidgetValueFromAttr: { imageSrc: imageSrc, imageAltTag: imageAltTag, masterImageSrc: masterImageSrc, masterImageAltTag: masterImageAltTag, integratedChildImagePath: integratedChildImagePath }\" data-image-alt-tag=\"Pioneer DDJRZX Pro 4-Channel Rekordbox DJ Controller\" data-image-src=\"/Images/ProductImages/250/PIO-DDJRZX.jpg\" data-integrated-child-image-path=\"/Images/ProductImages/250\" data-master-image-alt-tag=\"Pioneer DDJRZX Pro 4-Channel Rekordbox DJ Controller\" data-master-image-src=\"/Images/ProductImages/250/PIO-DDJRZX.jpg\"/>\n",
       "</a>\n",
       "<!-- Product Ribbon Group -->\n",
       "<aside class=\"product-ribbons\">\n",
       "<img src=\"/Themes/BPDTHEME01/theme-client-updates/img/ribbons/ribbon-sale.png\"/>\n",
       "</aside>\n",
       "</div>\n",
       "</div>\n",
       "<div class=\"cv-zone-product-2\">\n",
       "<div class=\"cv-zone-product-4\">\n",
       "</div>\n",
       "<div class=\"cv-zone-product-5 \">\n",
       "<span class=\"widget-productlist-title \"><a data-product-link=\"PIO-DDJRZX\" href=\"/pioneer-ddjrzx-pro-4-channel-rekordbox-dj-controller\">Pioneer DDJRZX Pro 4-Channel Rekordbox DJ Controller</a></span>\n",
       "<div class=\"widget-html-snippet \">\n",
       "<div class=\"our-price\">Our Price</div>\n",
       "</div>\n",
       "<span class=\"widget-productlist-price \">\n",
       "<span class=\"item-price\" data-bind=\"invisible: showAltPrice\">$3999</span>\n",
       "</span>\n",
       "<div class=\"product-sale-info cv-ico-general-tag3\">\n",
       "<span class=\"price-sale-save-item\">Save $0</span>\n",
       "</div>\n",
       "<span class=\"widget-productlist-availability cart-product-availability in-stock\"> In Stock </span>\n",
       "</div>\n",
       "<div class=\"cv-zone-product-6\">\n",
       "<button class=\"widget-productlist-atc-button btn cv-add-to-cart\" data-bind=\"click: addToCart, addIsProcessingClass: isAddingToCart, disabled: isAddingToCart\" type=\"button\">Add to cart</button>\n",
       "</div>\n",
       "</div>\n",
       "<div class=\"cv-zone-product-3\">\n",
       "</div>\n",
       "</div></div>"
      ]
     },
     "execution_count": 36,
     "metadata": {},
     "output_type": "execute_result"
    }
   ],
   "source": [
    "#Checking container at index 0\n",
    "containers[0]"
   ]
  },
  {
   "cell_type": "code",
   "execution_count": 37,
   "metadata": {},
   "outputs": [],
   "source": [
    "#Assigning the containers to variable container\n",
    "container = containers[0]"
   ]
  },
  {
   "cell_type": "code",
   "execution_count": 38,
   "metadata": {},
   "outputs": [
    {
     "data": {
      "text/plain": [
       "<a data-product-link=\"PIO-DDJRZX\" href=\"/pioneer-ddjrzx-pro-4-channel-rekordbox-dj-controller\">\n",
       "<img class=\"product-img\" data-bind=\"attr: { src: imageSrc, alt: imageAltTag, title: imageAltTag }, updateWidgetValueFromAttr: { imageSrc: imageSrc, imageAltTag: imageAltTag, masterImageSrc: masterImageSrc, masterImageAltTag: masterImageAltTag, integratedChildImagePath: integratedChildImagePath }\" data-image-alt-tag=\"Pioneer DDJRZX Pro 4-Channel Rekordbox DJ Controller\" data-image-src=\"/Images/ProductImages/250/PIO-DDJRZX.jpg\" data-integrated-child-image-path=\"/Images/ProductImages/250\" data-master-image-alt-tag=\"Pioneer DDJRZX Pro 4-Channel Rekordbox DJ Controller\" data-master-image-src=\"/Images/ProductImages/250/PIO-DDJRZX.jpg\"/>\n",
       "</a>"
      ]
     },
     "execution_count": 38,
     "metadata": {},
     "output_type": "execute_result"
    }
   ],
   "source": [
    "#Checking the details inside container 'a' class\n",
    "container.a"
   ]
  },
  {
   "cell_type": "code",
   "execution_count": 39,
   "metadata": {},
   "outputs": [
    {
     "data": {
      "text/plain": [
       "<div data-view=\"true\">\n",
       "<div class=\"cv-zone-product-1\">\n",
       "<div class=\"widget-productlist-image \">\n",
       "<a data-product-link=\"PIO-DDJRZX\" href=\"/pioneer-ddjrzx-pro-4-channel-rekordbox-dj-controller\">\n",
       "<img class=\"product-img\" data-bind=\"attr: { src: imageSrc, alt: imageAltTag, title: imageAltTag }, updateWidgetValueFromAttr: { imageSrc: imageSrc, imageAltTag: imageAltTag, masterImageSrc: masterImageSrc, masterImageAltTag: masterImageAltTag, integratedChildImagePath: integratedChildImagePath }\" data-image-alt-tag=\"Pioneer DDJRZX Pro 4-Channel Rekordbox DJ Controller\" data-image-src=\"/Images/ProductImages/250/PIO-DDJRZX.jpg\" data-integrated-child-image-path=\"/Images/ProductImages/250\" data-master-image-alt-tag=\"Pioneer DDJRZX Pro 4-Channel Rekordbox DJ Controller\" data-master-image-src=\"/Images/ProductImages/250/PIO-DDJRZX.jpg\"/>\n",
       "</a>\n",
       "<!-- Product Ribbon Group -->\n",
       "<aside class=\"product-ribbons\">\n",
       "<img src=\"/Themes/BPDTHEME01/theme-client-updates/img/ribbons/ribbon-sale.png\"/>\n",
       "</aside>\n",
       "</div>\n",
       "</div>\n",
       "<div class=\"cv-zone-product-2\">\n",
       "<div class=\"cv-zone-product-4\">\n",
       "</div>\n",
       "<div class=\"cv-zone-product-5 \">\n",
       "<span class=\"widget-productlist-title \"><a data-product-link=\"PIO-DDJRZX\" href=\"/pioneer-ddjrzx-pro-4-channel-rekordbox-dj-controller\">Pioneer DDJRZX Pro 4-Channel Rekordbox DJ Controller</a></span>\n",
       "<div class=\"widget-html-snippet \">\n",
       "<div class=\"our-price\">Our Price</div>\n",
       "</div>\n",
       "<span class=\"widget-productlist-price \">\n",
       "<span class=\"item-price\" data-bind=\"invisible: showAltPrice\">$3999</span>\n",
       "</span>\n",
       "<div class=\"product-sale-info cv-ico-general-tag3\">\n",
       "<span class=\"price-sale-save-item\">Save $0</span>\n",
       "</div>\n",
       "<span class=\"widget-productlist-availability cart-product-availability in-stock\"> In Stock </span>\n",
       "</div>\n",
       "<div class=\"cv-zone-product-6\">\n",
       "<button class=\"widget-productlist-atc-button btn cv-add-to-cart\" data-bind=\"click: addToCart, addIsProcessingClass: isAddingToCart, disabled: isAddingToCart\" type=\"button\">Add to cart</button>\n",
       "</div>\n",
       "</div>\n",
       "<div class=\"cv-zone-product-3\">\n",
       "</div>\n",
       "</div>"
      ]
     },
     "execution_count": 39,
     "metadata": {},
     "output_type": "execute_result"
    }
   ],
   "source": [
    "#Checking Container 'div'\n",
    "container.div"
   ]
  },
  {
   "cell_type": "code",
   "execution_count": 40,
   "metadata": {},
   "outputs": [
    {
     "data": {
      "text/plain": [
       "<a data-product-link=\"PIO-DDJRZX\" href=\"/pioneer-ddjrzx-pro-4-channel-rekordbox-dj-controller\">\n",
       "<img class=\"product-img\" data-bind=\"attr: { src: imageSrc, alt: imageAltTag, title: imageAltTag }, updateWidgetValueFromAttr: { imageSrc: imageSrc, imageAltTag: imageAltTag, masterImageSrc: masterImageSrc, masterImageAltTag: masterImageAltTag, integratedChildImagePath: integratedChildImagePath }\" data-image-alt-tag=\"Pioneer DDJRZX Pro 4-Channel Rekordbox DJ Controller\" data-image-src=\"/Images/ProductImages/250/PIO-DDJRZX.jpg\" data-integrated-child-image-path=\"/Images/ProductImages/250\" data-master-image-alt-tag=\"Pioneer DDJRZX Pro 4-Channel Rekordbox DJ Controller\" data-master-image-src=\"/Images/ProductImages/250/PIO-DDJRZX.jpg\"/>\n",
       "</a>"
      ]
     },
     "execution_count": 40,
     "metadata": {},
     "output_type": "execute_result"
    }
   ],
   "source": [
    "#Checking inside the right 'div' and 'a' class to fetch required data\n",
    "container.div.div.a"
   ]
  },
  {
   "cell_type": "code",
   "execution_count": 49,
   "metadata": {},
   "outputs": [
    {
     "name": "stdout",
     "output_type": "stream",
     "text": [
      "brand: Pioneer DDJRZX Pro 4-Channel Rekordbox DJ Controller\n",
      "price: $3999\n",
      "discount:Save $0\n",
      "brand: Pioneer DDJRZ Pro 4-Channel Rekordbox DJ Controller w/ Performance Pads\n",
      "price: $2999\n",
      "discount:Save $0\n",
      "brand: Pioneer DDJSZ2 Four Channel Premium Serato DJ Controller\n",
      "price: $2999\n",
      "discount:Save $0\n",
      "brand: OPEN BOX Pioneer DDJRZX Pro Rekordbox DJ/VJ Controller\n",
      "price: $3499\n",
      "discount:Save $500\n",
      "brand: Pioneer XDJRX2 All-in-One DJ System for Rekordbox\n",
      "price: $2349\n",
      "discount:Save $0\n",
      "brand: OPEN BOX Native Instruments Traktor Kontrol S8\n",
      "price: $1299\n",
      "discount:Save $400\n",
      "brand: Pioneer XDJRR All-in-One DJ System for Rekordbox\n",
      "price: $1699\n",
      "discount:Save $0\n",
      "brand: Pioneer DDJ1000 4 Channel Rekordbox DJ Controller w/ Jog Display & Performance Pads\n",
      "price: $1699\n",
      "discount:Save $0\n",
      "brand: Pioneer DDJSX3 4-Channel Serato DJ Pro Controller\n",
      "price: $1599\n",
      "discount:Save $0\n",
      "brand: Native Instruments Traktor Kontrol S8 Flagship All-In-One 4-Channel DJ System\n",
      "price: $1388\n",
      "discount:Save $311\n",
      "brand: Korg Kaoss DJ Controller w/ Built-In Kaoss Pad\n",
      "price: $295\n",
      "discount:Save $304\n",
      "brand: Native Instruments Traktor Kontrol S5 Pro 4-Channel DJ System\n",
      "price: $648\n",
      "discount:Save $251\n",
      "brand: OPEN BOX Pioneer DDJSX3 4-Channel Serato DJ Pro Controller\n",
      "price: $1349\n",
      "discount:Save $250\n",
      "brand: Denon MC7000 Professional DJ Controller w/ Dual Interface & Serato DJ\n",
      "price: $1184\n",
      "discount:Save $215\n",
      "brand: Native Instruments Traktor Kontrol D2\n",
      "price: $345\n",
      "discount:Save $204\n"
     ]
    }
   ],
   "source": [
    "# Creating file with the required fetched data\n",
    "# Using 'For loop' to iterate over each line item - brand name, product price & discount price\n",
    "filename = \"products1.csv\"\n",
    "f = open(filename,\"w\")\n",
    "headers = \"brand , price , discount \\n\"  \n",
    "f.write(headers)\n",
    "\n",
    "for container in containers:\n",
    "    brand = container.div.div.a.img[\"data-image-alt-tag\"]\n",
    "    product_price = container.findAll(\"span\",{\"class\":\"item-price\"})\n",
    "    price = product_price[0].text\n",
    "    discount_price = container.findAll(\"span\",{\"class\":\"price-sale-save-item\"})\n",
    "    discount = discount_price[0].text\n",
    "    print(\"brand: \" + brand)\n",
    "    print(\"price: \" + price)\n",
    "    print(\"discount:\" + discount)\n",
    "    \n",
    "    f.write(brand + \",\" + price + \",\" + discount + \"\\n\")\n",
    "    \n",
    "f.close() "
   ]
  },
  {
   "cell_type": "code",
   "execution_count": 103,
   "metadata": {},
   "outputs": [],
   "source": [
    "#Importing Pandas\n",
    "import pandas as pd\n"
   ]
  },
  {
   "cell_type": "code",
   "execution_count": 104,
   "metadata": {},
   "outputs": [],
   "source": [
    "#Reading the fetched CSV File\n",
    "df = pd.read_csv(\"C:/Users/rmokashi/Documents/Individual Assignment/products.csv\")\n",
    "\n",
    "df.to_csv('C:/Users/rmokashi/Documents/Individual Assignment/products.csv')\n"
   ]
  },
  {
   "cell_type": "code",
   "execution_count": 105,
   "metadata": {},
   "outputs": [
    {
     "data": {
      "text/plain": [
       "['Brand ', 'Price', ' Discount ']"
      ]
     },
     "execution_count": 105,
     "metadata": {},
     "output_type": "execute_result"
    }
   ],
   "source": [
    "#Showing the column names\n",
    "list(df.columns.values)"
   ]
  },
  {
   "cell_type": "code",
   "execution_count": 106,
   "metadata": {},
   "outputs": [
    {
     "data": {
      "text/html": [
       "<div>\n",
       "<style scoped>\n",
       "    .dataframe tbody tr th:only-of-type {\n",
       "        vertical-align: middle;\n",
       "    }\n",
       "\n",
       "    .dataframe tbody tr th {\n",
       "        vertical-align: top;\n",
       "    }\n",
       "\n",
       "    .dataframe thead th {\n",
       "        text-align: right;\n",
       "    }\n",
       "</style>\n",
       "<table border=\"1\" class=\"dataframe\">\n",
       "  <thead>\n",
       "    <tr style=\"text-align: right;\">\n",
       "      <th></th>\n",
       "      <th>Brand</th>\n",
       "      <th>Price</th>\n",
       "      <th>Discount</th>\n",
       "    </tr>\n",
       "  </thead>\n",
       "  <tbody>\n",
       "    <tr>\n",
       "      <th>0</th>\n",
       "      <td>Denon MC7000 Professional</td>\n",
       "      <td>1184</td>\n",
       "      <td>215</td>\n",
       "    </tr>\n",
       "    <tr>\n",
       "      <th>1</th>\n",
       "      <td>Korg Kaoss DJ Controller</td>\n",
       "      <td>295</td>\n",
       "      <td>304</td>\n",
       "    </tr>\n",
       "    <tr>\n",
       "      <th>2</th>\n",
       "      <td>Native Instruments Traktor Kontrol D2</td>\n",
       "      <td>345</td>\n",
       "      <td>204</td>\n",
       "    </tr>\n",
       "    <tr>\n",
       "      <th>3</th>\n",
       "      <td>Native Instruments Traktor Kontrol S5</td>\n",
       "      <td>648</td>\n",
       "      <td>251</td>\n",
       "    </tr>\n",
       "    <tr>\n",
       "      <th>4</th>\n",
       "      <td>Native Instruments Traktor Kontrol S8</td>\n",
       "      <td>1388</td>\n",
       "      <td>311</td>\n",
       "    </tr>\n",
       "  </tbody>\n",
       "</table>\n",
       "</div>"
      ],
      "text/plain": [
       "                                   Brand   Price   Discount \n",
       "0               Denon MC7000 Professional   1184         215\n",
       "1               Korg Kaoss DJ Controller     295         304\n",
       "2   Native Instruments Traktor Kontrol D2    345         204\n",
       "3  Native Instruments Traktor Kontrol S5     648         251\n",
       "4   Native Instruments Traktor Kontrol S8   1388         311"
      ]
     },
     "execution_count": 106,
     "metadata": {},
     "output_type": "execute_result"
    }
   ],
   "source": [
    "#Showing the head of the dataframe df\n",
    "df.head()"
   ]
  },
  {
   "cell_type": "code",
   "execution_count": 113,
   "metadata": {},
   "outputs": [],
   "source": [
    "#Calculating Percent Discount\n",
    "df2 = pd.DataFrame({\"Price\": [1184, 295, 345, 648, 1388 ,1299 ,3499 ,1349, 1699, 2999 ,3999, 1599 ,2999, 1699, 2349],\n",
    "                   \"Discount\": [215,304,204,251,311,400,500,250,0,0,0,0,0,0,0]})\n",
    "\n",
    "df['Percent_Discount'] = ((df2[\"Discount\"] /( df2[\"Price\"]+df2[\"Discount\"]) ))*100"
   ]
  },
  {
   "cell_type": "code",
   "execution_count": 130,
   "metadata": {},
   "outputs": [
    {
     "data": {
      "text/html": [
       "<div>\n",
       "<style scoped>\n",
       "    .dataframe tbody tr th:only-of-type {\n",
       "        vertical-align: middle;\n",
       "    }\n",
       "\n",
       "    .dataframe tbody tr th {\n",
       "        vertical-align: top;\n",
       "    }\n",
       "\n",
       "    .dataframe thead th {\n",
       "        text-align: right;\n",
       "    }\n",
       "</style>\n",
       "<table border=\"1\" class=\"dataframe\">\n",
       "  <thead>\n",
       "    <tr style=\"text-align: right;\">\n",
       "      <th></th>\n",
       "      <th>Brand</th>\n",
       "      <th>Price</th>\n",
       "      <th>Discount</th>\n",
       "      <th>Percent_Discount</th>\n",
       "    </tr>\n",
       "  </thead>\n",
       "  <tbody>\n",
       "    <tr>\n",
       "      <th>0</th>\n",
       "      <td>Denon MC7000 Professional</td>\n",
       "      <td>1184</td>\n",
       "      <td>215</td>\n",
       "      <td>15.368120</td>\n",
       "    </tr>\n",
       "    <tr>\n",
       "      <th>1</th>\n",
       "      <td>Korg Kaoss DJ Controller</td>\n",
       "      <td>295</td>\n",
       "      <td>304</td>\n",
       "      <td>50.751252</td>\n",
       "    </tr>\n",
       "    <tr>\n",
       "      <th>2</th>\n",
       "      <td>Native Instruments Traktor Kontrol D2</td>\n",
       "      <td>345</td>\n",
       "      <td>204</td>\n",
       "      <td>37.158470</td>\n",
       "    </tr>\n",
       "    <tr>\n",
       "      <th>3</th>\n",
       "      <td>Native Instruments Traktor Kontrol S5</td>\n",
       "      <td>648</td>\n",
       "      <td>251</td>\n",
       "      <td>27.919911</td>\n",
       "    </tr>\n",
       "    <tr>\n",
       "      <th>4</th>\n",
       "      <td>Native Instruments Traktor Kontrol S8</td>\n",
       "      <td>1388</td>\n",
       "      <td>311</td>\n",
       "      <td>18.304885</td>\n",
       "    </tr>\n",
       "    <tr>\n",
       "      <th>5</th>\n",
       "      <td>OPEN BOX Native Instruments Traktor Kontrol S8</td>\n",
       "      <td>1299</td>\n",
       "      <td>400</td>\n",
       "      <td>23.543261</td>\n",
       "    </tr>\n",
       "    <tr>\n",
       "      <th>6</th>\n",
       "      <td>OPEN BOX Pioneer DDJRZX Pro Rekordbox</td>\n",
       "      <td>3499</td>\n",
       "      <td>500</td>\n",
       "      <td>12.503126</td>\n",
       "    </tr>\n",
       "    <tr>\n",
       "      <th>7</th>\n",
       "      <td>OPEN BOX Pioneer DDJSX3</td>\n",
       "      <td>1349</td>\n",
       "      <td>250</td>\n",
       "      <td>15.634772</td>\n",
       "    </tr>\n",
       "    <tr>\n",
       "      <th>8</th>\n",
       "      <td>Pioneer DDJ1000 4</td>\n",
       "      <td>1699</td>\n",
       "      <td>0</td>\n",
       "      <td>0.000000</td>\n",
       "    </tr>\n",
       "    <tr>\n",
       "      <th>9</th>\n",
       "      <td>Pioneer DDJRZ Pro 4</td>\n",
       "      <td>2999</td>\n",
       "      <td>0</td>\n",
       "      <td>0.000000</td>\n",
       "    </tr>\n",
       "    <tr>\n",
       "      <th>10</th>\n",
       "      <td>Pioneer DDJRZX Pro 4</td>\n",
       "      <td>3999</td>\n",
       "      <td>0</td>\n",
       "      <td>0.000000</td>\n",
       "    </tr>\n",
       "    <tr>\n",
       "      <th>11</th>\n",
       "      <td>Pioneer DDJSX3 4</td>\n",
       "      <td>1599</td>\n",
       "      <td>0</td>\n",
       "      <td>0.000000</td>\n",
       "    </tr>\n",
       "    <tr>\n",
       "      <th>12</th>\n",
       "      <td>Pioneer DDJSZ2 4</td>\n",
       "      <td>2999</td>\n",
       "      <td>0</td>\n",
       "      <td>0.000000</td>\n",
       "    </tr>\n",
       "    <tr>\n",
       "      <th>13</th>\n",
       "      <td>Pioneer XDJRR</td>\n",
       "      <td>1699</td>\n",
       "      <td>0</td>\n",
       "      <td>0.000000</td>\n",
       "    </tr>\n",
       "    <tr>\n",
       "      <th>14</th>\n",
       "      <td>Pioneer XDJRX2</td>\n",
       "      <td>2349</td>\n",
       "      <td>0</td>\n",
       "      <td>0.000000</td>\n",
       "    </tr>\n",
       "  </tbody>\n",
       "</table>\n",
       "</div>"
      ],
      "text/plain": [
       "                                            Brand   Price   Discount   \\\n",
       "0                        Denon MC7000 Professional   1184         215   \n",
       "1                        Korg Kaoss DJ Controller     295         304   \n",
       "2            Native Instruments Traktor Kontrol D2    345         204   \n",
       "3           Native Instruments Traktor Kontrol S5     648         251   \n",
       "4            Native Instruments Traktor Kontrol S8   1388         311   \n",
       "5   OPEN BOX Native Instruments Traktor Kontrol S8   1299         400   \n",
       "6            OPEN BOX Pioneer DDJRZX Pro Rekordbox   3499         500   \n",
       "7                          OPEN BOX Pioneer DDJSX3   1349         250   \n",
       "8                               Pioneer DDJ1000 4    1699           0   \n",
       "9                              Pioneer DDJRZ Pro 4   2999           0   \n",
       "10                            Pioneer DDJRZX Pro 4   3999           0   \n",
       "11                                Pioneer DDJSX3 4   1599           0   \n",
       "12                                Pioneer DDJSZ2 4   2999           0   \n",
       "13                                   Pioneer XDJRR   1699           0   \n",
       "14                                  Pioneer XDJRX2   2349           0   \n",
       "\n",
       "    Percent_Discount  \n",
       "0          15.368120  \n",
       "1          50.751252  \n",
       "2          37.158470  \n",
       "3          27.919911  \n",
       "4          18.304885  \n",
       "5          23.543261  \n",
       "6          12.503126  \n",
       "7          15.634772  \n",
       "8           0.000000  \n",
       "9           0.000000  \n",
       "10          0.000000  \n",
       "11          0.000000  \n",
       "12          0.000000  \n",
       "13          0.000000  \n",
       "14          0.000000  "
      ]
     },
     "execution_count": 130,
     "metadata": {},
     "output_type": "execute_result"
    }
   ],
   "source": [
    "#Overview of df dataframe updated with percent discount\n",
    "df"
   ]
  },
  {
   "cell_type": "code",
   "execution_count": 119,
   "metadata": {},
   "outputs": [],
   "source": [
    "#Importing matplotlib\n",
    "import matplotlib.pyplot as plt"
   ]
  },
  {
   "cell_type": "code",
   "execution_count": 188,
   "metadata": {
    "scrolled": false
   },
   "outputs": [
    {
     "data": {
      "image/png": "[encoded data removed]",
      "text/plain": [
       "<Figure size 432x288 with 1 Axes>"
      ]
     },
     "metadata": {},
     "output_type": "display_data"
    },
    {
     "data": {
      "text/html": [
       "<div>\n",
       "<style scoped>\n",
       "    .dataframe tbody tr th:only-of-type {\n",
       "        vertical-align: middle;\n",
       "    }\n",
       "\n",
       "    .dataframe tbody tr th {\n",
       "        vertical-align: top;\n",
       "    }\n",
       "\n",
       "    .dataframe thead th {\n",
       "        text-align: right;\n",
       "    }\n",
       "</style>\n",
       "<table border=\"1\" class=\"dataframe\">\n",
       "  <thead>\n",
       "    <tr style=\"text-align: right;\">\n",
       "      <th></th>\n",
       "      <th>Brand</th>\n",
       "      <th>Price</th>\n",
       "      <th>Discount</th>\n",
       "      <th>Percent_Discount</th>\n",
       "    </tr>\n",
       "  </thead>\n",
       "  <tbody>\n",
       "    <tr>\n",
       "      <th>0</th>\n",
       "      <td>Denon MC7000 Professional</td>\n",
       "      <td>1184</td>\n",
       "      <td>215</td>\n",
       "      <td>15.368120</td>\n",
       "    </tr>\n",
       "    <tr>\n",
       "      <th>1</th>\n",
       "      <td>Korg Kaoss DJ Controller</td>\n",
       "      <td>295</td>\n",
       "      <td>304</td>\n",
       "      <td>50.751252</td>\n",
       "    </tr>\n",
       "    <tr>\n",
       "      <th>2</th>\n",
       "      <td>Native Instruments Traktor Kontrol D2</td>\n",
       "      <td>345</td>\n",
       "      <td>204</td>\n",
       "      <td>37.158470</td>\n",
       "    </tr>\n",
       "    <tr>\n",
       "      <th>3</th>\n",
       "      <td>Native Instruments Traktor Kontrol S5</td>\n",
       "      <td>648</td>\n",
       "      <td>251</td>\n",
       "      <td>27.919911</td>\n",
       "    </tr>\n",
       "    <tr>\n",
       "      <th>4</th>\n",
       "      <td>Native Instruments Traktor Kontrol S8</td>\n",
       "      <td>1388</td>\n",
       "      <td>311</td>\n",
       "      <td>18.304885</td>\n",
       "    </tr>\n",
       "    <tr>\n",
       "      <th>5</th>\n",
       "      <td>OPEN BOX Native Instruments Traktor Kontrol S8</td>\n",
       "      <td>1299</td>\n",
       "      <td>400</td>\n",
       "      <td>23.543261</td>\n",
       "    </tr>\n",
       "    <tr>\n",
       "      <th>6</th>\n",
       "      <td>OPEN BOX Pioneer DDJRZX Pro Rekordbox</td>\n",
       "      <td>3499</td>\n",
       "      <td>500</td>\n",
       "      <td>12.503126</td>\n",
       "    </tr>\n",
       "    <tr>\n",
       "      <th>7</th>\n",
       "      <td>OPEN BOX Pioneer DDJSX3</td>\n",
       "      <td>1349</td>\n",
       "      <td>250</td>\n",
       "      <td>15.634772</td>\n",
       "    </tr>\n",
       "    <tr>\n",
       "      <th>8</th>\n",
       "      <td>Pioneer DDJ1000 4</td>\n",
       "      <td>1699</td>\n",
       "      <td>0</td>\n",
       "      <td>0.000000</td>\n",
       "    </tr>\n",
       "    <tr>\n",
       "      <th>9</th>\n",
       "      <td>Pioneer DDJRZ Pro 4</td>\n",
       "      <td>2999</td>\n",
       "      <td>0</td>\n",
       "      <td>0.000000</td>\n",
       "    </tr>\n",
       "    <tr>\n",
       "      <th>10</th>\n",
       "      <td>Pioneer DDJRZX Pro 4</td>\n",
       "      <td>3999</td>\n",
       "      <td>0</td>\n",
       "      <td>0.000000</td>\n",
       "    </tr>\n",
       "    <tr>\n",
       "      <th>11</th>\n",
       "      <td>Pioneer DDJSX3 4</td>\n",
       "      <td>1599</td>\n",
       "      <td>0</td>\n",
       "      <td>0.000000</td>\n",
       "    </tr>\n",
       "    <tr>\n",
       "      <th>12</th>\n",
       "      <td>Pioneer DDJSZ2 4</td>\n",
       "      <td>2999</td>\n",
       "      <td>0</td>\n",
       "      <td>0.000000</td>\n",
       "    </tr>\n",
       "    <tr>\n",
       "      <th>13</th>\n",
       "      <td>Pioneer XDJRR</td>\n",
       "      <td>1699</td>\n",
       "      <td>0</td>\n",
       "      <td>0.000000</td>\n",
       "    </tr>\n",
       "    <tr>\n",
       "      <th>14</th>\n",
       "      <td>Pioneer XDJRX2</td>\n",
       "      <td>2349</td>\n",
       "      <td>0</td>\n",
       "      <td>0.000000</td>\n",
       "    </tr>\n",
       "  </tbody>\n",
       "</table>\n",
       "</div>"
      ],
      "text/plain": [
       "                                            Brand   Price   Discount   \\\n",
       "0                        Denon MC7000 Professional   1184         215   \n",
       "1                        Korg Kaoss DJ Controller     295         304   \n",
       "2            Native Instruments Traktor Kontrol D2    345         204   \n",
       "3           Native Instruments Traktor Kontrol S5     648         251   \n",
       "4            Native Instruments Traktor Kontrol S8   1388         311   \n",
       "5   OPEN BOX Native Instruments Traktor Kontrol S8   1299         400   \n",
       "6            OPEN BOX Pioneer DDJRZX Pro Rekordbox   3499         500   \n",
       "7                          OPEN BOX Pioneer DDJSX3   1349         250   \n",
       "8                               Pioneer DDJ1000 4    1699           0   \n",
       "9                              Pioneer DDJRZ Pro 4   2999           0   \n",
       "10                            Pioneer DDJRZX Pro 4   3999           0   \n",
       "11                                Pioneer DDJSX3 4   1599           0   \n",
       "12                                Pioneer DDJSZ2 4   2999           0   \n",
       "13                                   Pioneer XDJRR   1699           0   \n",
       "14                                  Pioneer XDJRX2   2349           0   \n",
       "\n",
       "    Percent_Discount  \n",
       "0          15.368120  \n",
       "1          50.751252  \n",
       "2          37.158470  \n",
       "3          27.919911  \n",
       "4          18.304885  \n",
       "5          23.543261  \n",
       "6          12.503126  \n",
       "7          15.634772  \n",
       "8           0.000000  \n",
       "9           0.000000  \n",
       "10          0.000000  \n",
       "11          0.000000  \n",
       "12          0.000000  \n",
       "13          0.000000  \n",
       "14          0.000000  "
      ]
     },
     "execution_count": 188,
     "metadata": {},
     "output_type": "execute_result"
    }
   ],
   "source": [
    "#Plotting the bar diagram of products with percent discount\n",
    "#Numbers 0 to 7 on 'x axis' are the brands according to index position in dataframe\n",
    "ax = (1,2,3,4,5,6,7)\n",
    "ay = df.iloc[:7,3]\n",
    "a1= plt.bar(\"Brand 0\", df.iloc[0,3], color= 'gray',width=.5)\n",
    "a2 =plt.bar('Brand 1',df.iloc[1,3], color= 'orange',width=.5 )\n",
    "a3 =plt.bar('Brand 2',df.iloc[2,3], color= 'green',width=.5)\n",
    "a4 =plt.bar('Brand 3',df.iloc[3,3], color= 'yellow',width=.5)\n",
    "a4 =plt.bar('Brand 4',df.iloc[4,3], color= 'blue',width=.5)\n",
    "a5 =plt.bar('Brand 5',df.iloc[5,3], color= 'brown',width=.5)\n",
    "a6 =plt.bar('Brand 6',df.iloc[6,3], color= 'purple',width=.5)\n",
    "a7 =plt.bar('Brand 7',df.iloc[7,3], color= 'red',width=.5)\n",
    "plt.title(\"Percentage discount for different brands\")\n",
    "plt.show()\n",
    "df"
   ]
  },
  {
   "cell_type": "code",
   "execution_count": null,
   "metadata": {},
   "outputs": [],
   "source": []
  },
  {
   "cell_type": "code",
   "execution_count": null,
   "metadata": {},
   "outputs": [],
   "source": []
  }
 ],
 "metadata": {
  "kernelspec": {
   "display_name": "Python 3",
   "language": "python",
   "name": "python3"
  },
  "language_info": {
   "codemirror_mode": {
    "name": "ipython",
    "version": 3
   },
   "file_extension": ".py",
   "mimetype": "text/x-python",
   "name": "python",
   "nbconvert_exporter": "python",
   "pygments_lexer": "ipython3",
   "version": "3.6.5"
  }
 },
 "nbformat": 4,
 "nbformat_minor": 2
}
